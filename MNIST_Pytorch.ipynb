{
  "nbformat": 4,
  "nbformat_minor": 5,
  "metadata": {
    "accelerator": "GPU",
    "colab": {
      "name": "CS480 A3 Q3.ipynb",
      "provenance": [],
      "collapsed_sections": [],
      "machine_shape": "hm"
    },
    "kernelspec": {
      "display_name": "Python 3",
      "language": "python",
      "name": "python3"
    },
    "language_info": {
      "codemirror_mode": {
        "name": "ipython",
        "version": 3
      },
      "file_extension": ".py",
      "mimetype": "text/x-python",
      "name": "python",
      "nbconvert_exporter": "python",
      "pygments_lexer": "ipython3",
      "version": "3.7.10"
    }
  },
  "cells": [
    {
      "cell_type": "code",
      "metadata": {
        "id": "b7e6620f"
      },
      "source": [
        "import PIL\n",
        "import numpy as np\n",
        "import tensorflow as tf\n",
        "from tensorflow import keras\n",
        "from PIL import Image as img\n",
        "import matplotlib.pyplot as plt\n",
        "import cv2 as cv2\n",
        "import torch\n",
        "import torchvision\n",
        "from torchvision import models\n",
        "from torchvision import datasets\n",
        "from torchvision import transforms\n",
        "import torch.nn as nn\n",
        "from torch.optim import Adam\n",
        "from torch.nn import Conv2d,BatchNorm1d,ReLU,MaxPool2d,Linear,Dropout,Softmax,CrossEntropyLoss,BatchNorm2d"
      ],
      "id": "b7e6620f",
      "execution_count": 69,
      "outputs": []
    },
    {
      "cell_type": "code",
      "metadata": {
        "id": "e9aad77e"
      },
      "source": [
        "from torchvision.datasets import MNIST\n",
        "from torchvision import transforms"
      ],
      "id": "e9aad77e",
      "execution_count": 70,
      "outputs": []
    },
    {
      "cell_type": "markdown",
      "metadata": {
        "id": "f7ed90af"
      },
      "source": [
        "Import the MNIST training and test dataset"
      ],
      "id": "f7ed90af"
    },
    {
      "cell_type": "code",
      "metadata": {
        "id": "744d1612",
        "scrolled": true
      },
      "source": [
        "train_data = MNIST('./', download=True,\n",
        "                    transform=transforms.Compose([\n",
        "                        torchvision.transforms.Resize(32),\n",
        "                        transforms.ToTensor()\n",
        "                        \n",
        "                    ]), train=True)"
      ],
      "id": "744d1612",
      "execution_count": 126,
      "outputs": []
    },
    {
      "cell_type": "code",
      "metadata": {
        "id": "16a19447",
        "scrolled": true
      },
      "source": [
        "test_data = MNIST('./', download=True,\n",
        "                    transform=transforms.Compose([\n",
        "                        torchvision.transforms.Resize(32),\n",
        "                        transforms.ToTensor()\n",
        "                    ]), train=False)"
      ],
      "id": "16a19447",
      "execution_count": 127,
      "outputs": []
    },
    {
      "cell_type": "markdown",
      "metadata": {
        "id": "64YAZtVKClzh"
      },
      "source": [
        "Build the Model"
      ],
      "id": "64YAZtVKClzh"
    },
    {
      "cell_type": "code",
      "metadata": {
        "id": "7d9255e6"
      },
      "source": [
        "class MNIST_NN(nn.Module):\n",
        "  def __init__(self):\n",
        "    super(MNIST_NN, self).__init__()\n",
        "    self.conv_layers = nn.Sequential(\n",
        "        \n",
        "      Conv2d(1, 64, 3,1,1),\n",
        "      BatchNorm2d(64),\n",
        "      ReLU(inplace=True),\n",
        "      MaxPool2d(2,2),\n",
        "      \n",
        "      Conv2d(64, 128, 3,1,1),\n",
        "      BatchNorm2d(128),\n",
        "      ReLU(inplace=True),\n",
        "      MaxPool2d(2,2),\n",
        "      \n",
        "      Conv2d(128, 256, 3,1,1),\n",
        "      BatchNorm2d(256),\n",
        "      ReLU(inplace=True),\n",
        "      \n",
        "      Conv2d(256, 256, 3,1,1),\n",
        "      BatchNorm2d(256),\n",
        "      ReLU(inplace=True),\n",
        "      MaxPool2d(2, 2),\n",
        "      \n",
        "      Conv2d(256, 512, 3,1,1),\n",
        "      BatchNorm2d(512),\n",
        "      ReLU(inplace=True),\n",
        "      \n",
        "      Conv2d(512, 512,3,1,1),\n",
        "      BatchNorm2d(512),\n",
        "      ReLU(inplace=True),\n",
        "      MaxPool2d(2,2),\n",
        "      \n",
        "      Conv2d(512, 512, 3,1,1),\n",
        "      BatchNorm2d(512),\n",
        "      ReLU(inplace=True),\n",
        "      \n",
        "      Conv2d(512, 512, 3,1,1),\n",
        "      BatchNorm2d(512),\n",
        "      ReLU(inplace=True),\n",
        "      MaxPool2d(2,2),\n",
        "    )\n",
        "\n",
        "    self.fc_layers = nn.Sequential(\n",
        "      Linear(512, 4096),\n",
        "      Dropout(p=0.5),\n",
        "      Linear(4096, 4096),\n",
        "      Dropout(p=0.5),\n",
        "      Linear(4096, 10),   \n",
        "    )\n",
        "\n",
        "\n",
        "  def forward(self,x):\n",
        "    x = self.conv_layers(x)\n",
        "    x = x.squeeze()\n",
        "    x.unsqueeze(0)\n",
        "    x = self.fc_layers(x)\n",
        "    x=x.unsqueeze(0)\n",
        "\n",
        "    return x"
      ],
      "id": "7d9255e6",
      "execution_count": 128,
      "outputs": []
    },
    {
      "cell_type": "code",
      "metadata": {
        "id": "f0c25bd3",
        "scrolled": true,
        "colab": {
          "base_uri": "https://localhost:8080/"
        },
        "outputId": "b4f8dbc2-8b7a-4d0a-8fed-cde4001d7104"
      },
      "source": [
        "\n",
        "model = MNIST_NN()\n",
        "criterion = nn.CrossEntropyLoss()\n",
        "optimizer = Adam(model.parameters(), lr = 1e-5)\n",
        "\n",
        "\n",
        "if torch.cuda.is_available():\n",
        "  print(\"cuda is enabled\")\n",
        "  device = torch.device(\"cuda:0\")\n",
        "  model = model.cuda()\n",
        "  criterion = criterion.cuda()\n",
        "else:\n",
        "  device = torch.device(\"cpu\")\n",
        "\n"
      ],
      "id": "f0c25bd3",
      "execution_count": 129,
      "outputs": [
        {
          "output_type": "stream",
          "text": [
            "cuda is enabled\n"
          ],
          "name": "stdout"
        }
      ]
    },
    {
      "cell_type": "markdown",
      "metadata": {
        "id": "lBJ14UW8CpVs"
      },
      "source": [
        "Use 1/10 of the training data to train"
      ],
      "id": "lBJ14UW8CpVs"
    },
    {
      "cell_type": "code",
      "metadata": {
        "id": "a52e5038"
      },
      "source": [
        "part_train_data, rest_train_data=torch.utils.data.random_split(train_data,[6000,54000])\n",
        "\n",
        "train_loader = torch.utils.data.DataLoader(\n",
        "    dataset= part_train_data, batch_size=1, shuffle=True\n",
        ")\n",
        "test_loader = torch.utils.data.DataLoader(\n",
        "    dataset=test_data, batch_size=1, shuffle=True\n",
        ")\n"
      ],
      "id": "a52e5038",
      "execution_count": 145,
      "outputs": []
    },
    {
      "cell_type": "code",
      "metadata": {
        "id": "63a66562",
        "colab": {
          "base_uri": "https://localhost:8080/"
        },
        "outputId": "ac389a98-a50b-4691-cecc-12a12303a277"
      },
      "source": [
        "train_loss = []\n",
        "train_accuracy = []\n",
        "test_loss = []\n",
        "test_accuracy = []\n",
        "\n",
        "\n",
        "\n",
        "for epoch in range(5):\n",
        "\n",
        "    print(f\"Epoch: {epoch + 1}\")\n",
        "\n",
        "    # train\n",
        "    for x_train, y_train in train_loader:\n",
        "\n",
        "        x_train, y_train = x_train.to(device),y_train.to(device)\n",
        "\n",
        "        optimizer.zero_grad()\n",
        "\n",
        "        output_train = model(x_train)\n",
        "\n",
        "        loss_train = criterion(output_train, y_train)\n",
        "\n",
        "        loss_train.backward()\n",
        "\n",
        "        optimizer.step()\n",
        "\n",
        "\n",
        "    train_loss_total = 0\n",
        "    correct_train = 0\n",
        "    \n",
        "    # TRAIN INFO\n",
        "    for x_train, y_train in train_loader:\n",
        "      \n",
        "        x_train, y_train = x_train.to(device),y_train.to(device)\n",
        "        \n",
        "        output_train = model(x_train)\n",
        "        output_class = output_train.argmax(dim=1, keepdim=True)\n",
        "        if output_class == y_train:\n",
        "            correct_train += 1\n",
        "\n",
        "        loss_train = criterion(output_train, y_train)\n",
        "\n",
        "        train_loss_total += loss_train.item()\n",
        "\n",
        "    train_loss.append(train_loss_total/len(train_loader))\n",
        "    train_accuracy.append(100*correct_train/len(train_loader))\n",
        "    \n",
        "    print('Train Loss',train_loss[epoch])\n",
        "    print('Train Accuracy', train_accuracy[epoch])\n",
        "    \n",
        "    \n",
        "    # TEST INFO\n",
        "    correct_test = 0\n",
        "    test_loss_total = 0\n",
        "\n",
        "    for x_test, y_test in test_loader:\n",
        "        x_test, y_test = x_test.to(device),y_test.to(device)\n",
        "        output_test = model(x_test)\n",
        "        outClass = output_test.argmax(dim=1, keepdim=True)\n",
        "\n",
        "        if outClass == y_test:\n",
        "            correct_test += 1\n",
        "\n",
        "        loss_test = criterion(output_test, y_test)\n",
        "        test_loss_total += loss_test.item()\n",
        "    test_loss.append(test_loss_total/len(test_loader))\n",
        "    test_accuracy.append(100*correct_test/len(test_loader))\n",
        "\n",
        "    print('Test loss',test_loss[epoch])\n",
        "    print('Test accuracy', test_accuracy[epoch])\n",
        "\n"
      ],
      "id": "63a66562",
      "execution_count": 146,
      "outputs": [
        {
          "output_type": "stream",
          "text": [
            "Epoch: 1\n",
            "Train Loss 0.23835255682487222\n",
            "Train Accuracy 95.5\n",
            "Test loss 0.24718037324892575\n",
            "Test accuracy 95.52\n",
            "Epoch: 2\n",
            "Train Loss 0.02323857472559582\n",
            "Train Accuracy 99.41666666666667\n",
            "Test loss 0.07098809463041145\n",
            "Test accuracy 98.59\n",
            "Epoch: 3\n",
            "Train Loss 0.013966428709020831\n",
            "Train Accuracy 99.7\n",
            "Test loss 0.05863765000093689\n",
            "Test accuracy 98.86\n",
            "Epoch: 4\n",
            "Train Loss 0.005170590807283582\n",
            "Train Accuracy 99.9\n",
            "Test loss 0.06019486544277135\n",
            "Test accuracy 98.9\n",
            "Epoch: 5\n",
            "Train Loss 0.020551120075160023\n",
            "Train Accuracy 99.45\n",
            "Test loss 0.08937581202544391\n",
            "Test accuracy 98.57\n"
          ],
          "name": "stdout"
        }
      ]
    },
    {
      "cell_type": "markdown",
      "metadata": {
        "id": "qoOlVOo-t9W9"
      },
      "source": [
        "Part b     Plot "
      ],
      "id": "qoOlVOo-t9W9"
    },
    {
      "cell_type": "code",
      "metadata": {
        "id": "S13R3BX3BtTA"
      },
      "source": [
        "x = [1,2,3,4,5]"
      ],
      "id": "S13R3BX3BtTA",
      "execution_count": 147,
      "outputs": []
    },
    {
      "cell_type": "code",
      "metadata": {
        "colab": {
          "base_uri": "https://localhost:8080/",
          "height": 295
        },
        "id": "wFAEG1XTBtEl",
        "outputId": "1bf82bfc-90aa-4092-92d0-de5a07399eb5"
      },
      "source": [
        "plt.plot(x, test_accuracy)\n",
        "plt.ylabel('Test Accuracy')\n",
        "plt.title('Test Accuracy vs epoch')\n",
        "plt.xlabel('Epoch')\n",
        "plt.show()"
      ],
      "id": "wFAEG1XTBtEl",
      "execution_count": 148,
      "outputs": [
        {
          "output_type": "display_data",
          "data": {
            "image/png": "[encoded data removed]",
            "text/plain": [
              "<Figure size 432x288 with 1 Axes>"
            ]
          },
          "metadata": {
            "tags": [],
            "needs_background": "light"
          }
        }
      ]
    },
    {
      "cell_type": "code",
      "metadata": {
        "colab": {
          "base_uri": "https://localhost:8080/",
          "height": 312
        },
        "id": "77TUbJNDB40f",
        "outputId": "4afa8c6e-dc16-4f0a-a102-e90ebdad9a2a"
      },
      "source": [
        "plt.plot(x, train_accuracy)\n",
        "plt.ylabel('Training accuracy')\n",
        "plt.title('Training accuracy vs Epoch')\n",
        "plt.xlabel('Epoch')\n"
      ],
      "id": "77TUbJNDB40f",
      "execution_count": 149,
      "outputs": [
        {
          "output_type": "execute_result",
          "data": {
            "text/plain": [
              "Text(0.5, 0, 'Epoch')"
            ]
          },
          "metadata": {
            "tags": []
          },
          "execution_count": 149
        },
        {
          "output_type": "display_data",
          "data": {
            "image/png": "[encoded data removed]",
            "text/plain": [
              "<Figure size 432x288 with 1 Axes>"
            ]
          },
          "metadata": {
            "tags": [],
            "needs_background": "light"
          }
        }
      ]
    },
    {
      "cell_type": "code",
      "metadata": {
        "id": "RxTI5RRiThQk",
        "colab": {
          "base_uri": "https://localhost:8080/",
          "height": 295
        },
        "outputId": "ba995c82-a8af-4cdf-8e04-b017d536d51d"
      },
      "source": [
        "plt.plot(x, test_loss)\n",
        "plt.ylabel('Test loss')\n",
        "plt.title('Test Loss vs Epoch')\n",
        "plt.xlabel('Epoch')\n",
        "plt.show()"
      ],
      "id": "RxTI5RRiThQk",
      "execution_count": 150,
      "outputs": [
        {
          "output_type": "display_data",
          "data": {
            "image/png": "[encoded data removed]",
            "text/plain": [
              "<Figure size 432x288 with 1 Axes>"
            ]
          },
          "metadata": {
            "tags": [],
            "needs_background": "light"
          }
        }
      ]
    },
    {
      "cell_type": "code",
      "metadata": {
        "id": "XGt5_LWPThoC",
        "colab": {
          "base_uri": "https://localhost:8080/",
          "height": 295
        },
        "outputId": "77af7c13-a9d5-469a-a87f-7cb5ad8922c3"
      },
      "source": [
        "plt.plot(x, train_loss)\n",
        "plt.ylabel('Training loss')\n",
        "plt.title('Training Loss vs epoch')\n",
        "plt.xlabel('Epoch')\n",
        "plt.show()"
      ],
      "id": "XGt5_LWPThoC",
      "execution_count": 151,
      "outputs": [
        {
          "output_type": "display_data",
          "data": {
            "image/png": "[encoded data removed]",
            "text/plain": [
              "<Figure size 432x288 with 1 Axes>"
            ]
          },
          "metadata": {
            "tags": [],
            "needs_background": "light"
          }
        }
      ]
    },
    {
      "cell_type": "markdown",
      "metadata": {
        "id": "ss1ze7kak2SB"
      },
      "source": [
        "Part c (i)"
      ],
      "id": "ss1ze7kak2SB"
    },
    {
      "cell_type": "markdown",
      "metadata": {
        "id": "xDY2F_cgC18_"
      },
      "source": [
        "Horizontal Flip"
      ],
      "id": "xDY2F_cgC18_"
    },
    {
      "cell_type": "code",
      "metadata": {
        "id": "QSMFkZZoDANK"
      },
      "source": [
        "test_data_hflip = MNIST('./', download=True,\n",
        "                    transform=transforms.Compose([\n",
        "                        torchvision.transforms.Resize(32),\n",
        "                        torchvision.transforms.RandomHorizontalFlip(p=1),\n",
        "                        transforms.ToTensor()\n",
        "                    ]), train=False)\n",
        "\n",
        "test_loader = torch.utils.data.DataLoader(\n",
        "    dataset=test_data_hflip, batch_size=1, shuffle=True\n",
        ")\n",
        "\n"
      ],
      "id": "QSMFkZZoDANK",
      "execution_count": 152,
      "outputs": []
    },
    {
      "cell_type": "code",
      "metadata": {
        "colab": {
          "base_uri": "https://localhost:8080/"
        },
        "id": "usyt1pJPDpEP",
        "outputId": "b0a304fe-845c-46f4-a916-e26cf53f44a2"
      },
      "source": [
        "correct_test = 0\n",
        "test_loss_total = 0\n",
        "\n",
        "for x_test, y_test in test_loader:\n",
        "\n",
        "    x_test, y_test = x_test.to(device),y_test.to(device)\n",
        "    output_test = model(x_test)\n",
        "    outClass = output_test.argmax(dim=1, keepdim=True)\n",
        "\n",
        "    if outClass == y_test:\n",
        "        correct_test += 1\n",
        "\n",
        "    loss_test = criterion(output_test, y_test)\n",
        "\n",
        "    test_loss_total += loss_test.item()\n",
        "\n",
        "\n",
        "\n",
        "print('Flip the test dataset horizontally')\n",
        "print('Testing loss',test_loss_total/len(test_loader))\n",
        "print('Testing accuracy',100*correct_test/len(test_loader))\n"
      ],
      "id": "usyt1pJPDpEP",
      "execution_count": 153,
      "outputs": [
        {
          "output_type": "stream",
          "text": [
            "Flip the test dataset horizontally\n",
            "Testing loss 6.815444380948635\n",
            "Testing accuracy 42.83\n"
          ],
          "name": "stdout"
        }
      ]
    },
    {
      "cell_type": "markdown",
      "metadata": {
        "id": "1CGYiIa6fHY8"
      },
      "source": [
        "We can see that the testing accuracy is reduced a lot "
      ],
      "id": "1CGYiIa6fHY8"
    },
    {
      "cell_type": "markdown",
      "metadata": {
        "id": "7kF3VIQuKIwr"
      },
      "source": [
        "Vertical Flip"
      ],
      "id": "7kF3VIQuKIwr"
    },
    {
      "cell_type": "code",
      "metadata": {
        "id": "7wTKcggmJ0EE"
      },
      "source": [
        "test_data_vflip = MNIST('./', download=True,\n",
        "                    transform=transforms.Compose([\n",
        "                        torchvision.transforms.Resize(32),\n",
        "                        torchvision.transforms.RandomVerticalFlip(p=1),\n",
        "                        transforms.ToTensor()\n",
        "                    ]), train=False)\n",
        "\n",
        "test_loader = torch.utils.data.DataLoader(\n",
        "    dataset=test_data_vflip, batch_size=1, shuffle=True\n",
        ")\n",
        "\n"
      ],
      "id": "7wTKcggmJ0EE",
      "execution_count": 154,
      "outputs": []
    },
    {
      "cell_type": "code",
      "metadata": {
        "colab": {
          "base_uri": "https://localhost:8080/"
        },
        "id": "pk1BowEtKawa",
        "outputId": "084414ff-9530-4a97-e93a-4630b6f33afa"
      },
      "source": [
        "correct_test = 0\n",
        "test_loss_total = 0\n",
        "\n",
        "for x_test, y_test in test_loader:\n",
        "\n",
        "    x_test, y_test = x_test.to(device),y_test.to(device)\n",
        "    output_test = model(x_test)\n",
        "    outClass = output_test.argmax(dim=1, keepdim=True)\n",
        "\n",
        "    if outClass == y_test:\n",
        "        correct_test += 1\n",
        "\n",
        "    loss_test = criterion(output_test, y_test)\n",
        "\n",
        "    test_loss_total += loss_test.item()\n",
        "\n",
        "\n",
        "\n",
        "print('Flip the test dataset vertically')\n",
        "print('Testing loss',test_loss_total/len(test_loader))\n",
        "print('Testing accuracy',100*correct_test/len(test_loader))\n"
      ],
      "id": "pk1BowEtKawa",
      "execution_count": 155,
      "outputs": [
        {
          "output_type": "stream",
          "text": [
            "Flip the test dataset vertically\n",
            "Testing loss 8.22559674407586\n",
            "Testing accuracy 39.81\n"
          ],
          "name": "stdout"
        }
      ]
    },
    {
      "cell_type": "markdown",
      "metadata": {
        "id": "ShdKs_A4fMLG"
      },
      "source": [
        "We can see that the testing accuracy is reduced a lot "
      ],
      "id": "ShdKs_A4fMLG"
    },
    {
      "cell_type": "markdown",
      "metadata": {
        "id": "vnGhz6VafNkM"
      },
      "source": [
        "Part c(ii)"
      ],
      "id": "vnGhz6VafNkM"
    },
    {
      "cell_type": "markdown",
      "metadata": {
        "id": "MgdlXc6ZfP-k"
      },
      "source": [
        "Gaussian Noise of 0.01"
      ],
      "id": "MgdlXc6ZfP-k"
    },
    {
      "cell_type": "code",
      "metadata": {
        "colab": {
          "base_uri": "https://localhost:8080/"
        },
        "id": "M7LwtDAMedPl",
        "outputId": "5cd56842-83d6-4e69-c4cf-ab86a7e79937"
      },
      "source": [
        "test_data_noise = MNIST('./', download=True,\n",
        "                    transform=transforms.Compose([\n",
        "                        torchvision.transforms.Resize((32,32)),\n",
        "                        transforms.ToTensor(),\n",
        "                        torchvision.transforms.Lambda(lambda x : x + 0.1*torch.randn_like(x))\n",
        "                    ]), train=False)\n",
        "\n",
        "\n",
        "test_loader_noise = torch.utils.data.DataLoader(\n",
        "    dataset=test_data_noise, batch_size=1, shuffle=True\n",
        ")\n",
        "\n",
        "\n",
        "correct_test = 0\n",
        "test_loss_total = 0\n",
        "\n",
        "for x_test, y_test in test_loader_noise:\n",
        "\n",
        "    x_test, y_test = x_test.to(device),y_test.to(device)\n",
        "    output_test = model(x_test)\n",
        "\n",
        "\n",
        "    loss_test = criterion(output_test, y_test)\n",
        "\n",
        "    _ , pred = torch.max(output_test,1)\n",
        "\n",
        "    num_correct = (pred == y_test).sum()\n",
        "\n",
        "    correct_test += num_correct.item()\n",
        "\n",
        "    test_loss_total += loss_test.item()\n",
        "\n",
        "\n",
        "\n",
        "print('Gaussian noise of 0.01')\n",
        "print('Testing loss',test_loss_total/len(test_loader))\n",
        "print('Testing accuracy',100*correct_test/len(test_loader))\n",
        "\n"
      ],
      "id": "M7LwtDAMedPl",
      "execution_count": 156,
      "outputs": [
        {
          "output_type": "stream",
          "text": [
            "Gaussian noise of 0.01\n",
            "Testing loss 0.13073470065453957\n",
            "Testing accuracy 97.89\n"
          ],
          "name": "stdout"
        }
      ]
    },
    {
      "cell_type": "markdown",
      "metadata": {
        "id": "cSCrZnaw80_K"
      },
      "source": [
        "We see that the testing accuracy with guassian noise of 0.01 has relatively few effects on accuracy"
      ],
      "id": "cSCrZnaw80_K"
    },
    {
      "cell_type": "markdown",
      "metadata": {
        "id": "1g7P8VNxguxz"
      },
      "source": [
        "Gaussian nosie of 0.1"
      ],
      "id": "1g7P8VNxguxz"
    },
    {
      "cell_type": "code",
      "metadata": {
        "colab": {
          "base_uri": "https://localhost:8080/"
        },
        "id": "TXJW24-0gxYT",
        "outputId": "f6ba0dc8-6ceb-4559-d2d4-74846bb51c4d"
      },
      "source": [
        "test_data_noise = MNIST('./', download=True,\n",
        "                    transform=transforms.Compose([\n",
        "                        torchvision.transforms.Resize(32),\n",
        "                        transforms.ToTensor(),\n",
        "                        torchvision.transforms.Lambda(lambda x : x + np.sqrt(0.1)*torch.randn_like(x))\n",
        "                    ]), train=False)\n",
        "\n",
        "\n",
        "test_loader_noise = torch.utils.data.DataLoader(\n",
        "    dataset=test_data_noise, batch_size=1, shuffle=True\n",
        ")\n",
        "\n",
        "\n",
        "correct_test = 0\n",
        "test_loss_total = 0\n",
        "\n",
        "for x_test, y_test in test_loader_noise:\n",
        "\n",
        "    x_test, y_test = x_test.to(device),y_test.to(device)\n",
        "    output_test = model(x_test)\n",
        "    outClass = output_test.argmax(dim=1, keepdim=True)\n",
        "\n",
        "    if outClass == y_test:\n",
        "        correct_test += 1\n",
        "\n",
        "    loss_test = criterion(output_test, y_test)\n",
        "\n",
        "    test_loss_total += loss_test.item()\n",
        "\n",
        "\n",
        "\n",
        "print('Gaussian noise of 0.01')\n",
        "print('Testing loss',test_loss_total/len(test_loader))\n",
        "print('Testing accuracy',100*correct_test/len(test_loader))\n",
        "\n"
      ],
      "id": "TXJW24-0gxYT",
      "execution_count": 159,
      "outputs": [
        {
          "output_type": "stream",
          "text": [
            "Gaussian noise of 0.01\n",
            "Testing loss 0.43839553867600933\n",
            "Testing accuracy 92.18\n"
          ],
          "name": "stdout"
        }
      ]
    },
    {
      "cell_type": "markdown",
      "metadata": {
        "id": "bYOCGJookmNg"
      },
      "source": [
        "We can see that the pictures get more blurred and the test accuracy become lower"
      ],
      "id": "bYOCGJookmNg"
    },
    {
      "cell_type": "markdown",
      "metadata": {
        "id": "vZZXXfQFiZvP"
      },
      "source": [
        "Gaussian with nosie of 1"
      ],
      "id": "vZZXXfQFiZvP"
    },
    {
      "cell_type": "code",
      "metadata": {
        "colab": {
          "base_uri": "https://localhost:8080/"
        },
        "id": "dMB7GMBqib9v",
        "outputId": "9e02f620-a01a-44a8-9625-813d6ab768d3"
      },
      "source": [
        "test_data_noise = MNIST('./', download=True,\n",
        "                    transform=transforms.Compose([\n",
        "                        torchvision.transforms.Resize(32),\n",
        "                        transforms.ToTensor(),\n",
        "                        torchvision.transforms.Lambda(lambda x : x + 1*torch.randn_like(x))\n",
        "                    ]), train=False)\n",
        "\n",
        "\n",
        "test_loader_noise = torch.utils.data.DataLoader(\n",
        "    dataset=test_data_noise, batch_size=1, shuffle=True\n",
        ")\n",
        "\n",
        "\n",
        "correct_test = 0\n",
        "test_loss_total = 0\n",
        "\n",
        "for x_test, y_test in test_loader_noise:\n",
        "\n",
        "    x_test, y_test = x_test.to(device),y_test.to(device)\n",
        "    output_test = model(x_test)\n",
        "    outClass = output_test.argmax(dim=1, keepdim=True)\n",
        "\n",
        "    if outClass == y_test:\n",
        "        correct_test += 1\n",
        "\n",
        "    loss_test = criterion(output_test, y_test)\n",
        "\n",
        "    test_loss_total += loss_test.item()\n",
        "\n",
        "\n",
        "\n",
        "print('Gaussian noise of 0.01')\n",
        "print('Testing loss',test_loss_total/len(test_loader))\n",
        "print('Testing accuracy',100*correct_test/len(test_loader))\n",
        "\n"
      ],
      "id": "dMB7GMBqib9v",
      "execution_count": 160,
      "outputs": [
        {
          "output_type": "stream",
          "text": [
            "Gaussian noise of 0.01\n",
            "Testing loss 3.6377841543315763\n",
            "Testing accuracy 45.3\n"
          ],
          "name": "stdout"
        }
      ]
    },
    {
      "cell_type": "markdown",
      "metadata": {
        "id": "eteS7sQGi2mD"
      },
      "source": [
        "Nosie of 1 makes the accuracy very low and the picture very blurred"
      ],
      "id": "eteS7sQGi2mD"
    },
    {
      "cell_type": "markdown",
      "metadata": {
        "id": "RbmAqA56kqzU"
      },
      "source": [
        "Part d    Data Augmentation Combine flipped data"
      ],
      "id": "RbmAqA56kqzU"
    },
    {
      "cell_type": "markdown",
      "metadata": {
        "id": "vOE168uRvfKa"
      },
      "source": [
        "Train the Model"
      ],
      "id": "vOE168uRvfKa"
    },
    {
      "cell_type": "code",
      "metadata": {
        "id": "DWfdLYlNk9Wf"
      },
      "source": [
        "train_data = MNIST('./', download=True,\n",
        "                    transform=transforms.Compose([\n",
        "                        transforms.ToTensor(),\n",
        "                        torchvision.transforms.Resize(32),\n",
        "                    ]), train=True)\n",
        "\n",
        "train_data, _=torch.utils.data.random_split(train_data,[6000,54000])\n",
        "\n",
        "\n",
        "train_data_hflip = MNIST('./', download=True,\n",
        "                    transform=transforms.Compose([\n",
        "                        torchvision.transforms.Resize(32),\n",
        "                        torchvision.transforms.RandomHorizontalFlip(p=1),\n",
        "                        transforms.ToTensor()\n",
        "                    ]), train=True)\n",
        "\n",
        "train_data_hflip, _=torch.utils.data.random_split(train_data_hflip,[2000,58000])\n",
        "\n",
        "\n",
        "\n",
        "train_data_vflip = MNIST('./', download=True,\n",
        "                    transform=transforms.Compose([\n",
        "                        torchvision.transforms.Resize(32),\n",
        "                        torchvision.transforms.RandomVerticalFlip(p=1),\n",
        "                        transforms.ToTensor()\n",
        "                    ]), train=True)\n",
        "\n",
        "train_data_vflip, _=torch.utils.data.random_split(train_data_vflip,[2000,58000])\n",
        "\n",
        "\n",
        "train_data_all = train_data + train_data_hflip + train_data_vflip\n",
        "\n"
      ],
      "id": "DWfdLYlNk9Wf",
      "execution_count": 158,
      "outputs": []
    },
    {
      "cell_type": "code",
      "metadata": {
        "colab": {
          "base_uri": "https://localhost:8080/"
        },
        "id": "eWdMjO98rw1G",
        "outputId": "15f041da-0237-4325-cf16-fb5a34cd3777"
      },
      "source": [
        "test_data = MNIST('./', download=True,\n",
        "                    transform=transforms.Compose([\n",
        "                        transforms.ToTensor(),\n",
        "                        torchvision.transforms.Resize(32),\n",
        "                    ]), train=False)\n",
        "\n",
        "train_loader = torch.utils.data.DataLoader(\n",
        "    dataset=train_data_all, batch_size=1, shuffle=True\n",
        ")\n",
        "test_loader = torch.utils.data.DataLoader(\n",
        "    dataset=test_data, batch_size=1, shuffle=True\n",
        ")\n",
        "\n",
        "print(len(test_data))"
      ],
      "id": "eWdMjO98rw1G",
      "execution_count": 117,
      "outputs": [
        {
          "output_type": "stream",
          "text": [
            "10000\n"
          ],
          "name": "stdout"
        }
      ]
    },
    {
      "cell_type": "code",
      "metadata": {
        "colab": {
          "base_uri": "https://localhost:8080/"
        },
        "id": "exib0TodsJ6r",
        "outputId": "f2d094f9-bdfe-4d52-8eef-94da2cf84865"
      },
      "source": [
        "train_loss = []\n",
        "train_accuracy = []\n",
        "test_loss = []\n",
        "test_accuracy = []\n",
        "\n",
        "\n",
        "\n",
        "for epoch in range(5):\n",
        "\n",
        "    print(f\"Epoch: {epoch + 1}\")\n",
        "\n",
        "    # train\n",
        "    for x_train, y_train in train_loader:\n",
        "\n",
        "        x_train, y_train = x_train.to(device),y_train.to(device)\n",
        "\n",
        "        optimizer.zero_grad()\n",
        "\n",
        "        output_train = model(x_train)\n",
        "\n",
        "        loss_train = criterion(output_train, y_train)\n",
        "\n",
        "        loss_train.backward()\n",
        "\n",
        "        optimizer.step()\n",
        "\n",
        "\n",
        "    train_loss_total = 0\n",
        "    correct_train = 0\n",
        "    \n",
        "    # TRAIN INFO\n",
        "    for x_train, y_train in train_loader:\n",
        "      \n",
        "        x_train, y_train = x_train.to(device),y_train.to(device)\n",
        "        \n",
        "        output_train = model(x_train)\n",
        "        output_class = output_train.argmax(dim=1, keepdim=True)\n",
        "        if output_class == y_train:\n",
        "            correct_train += 1\n",
        "\n",
        "        loss_train = criterion(output_train, y_train)\n",
        "\n",
        "        train_loss_total += loss_train.item()\n",
        "\n",
        "    train_loss.append(train_loss_total/len(train_loader))\n",
        "    train_accuracy.append(100*correct_train/len(train_loader))\n",
        "    \n",
        "    print('Train Loss',train_loss[epoch])\n",
        "    print('Train Accuracy', train_accuracy[epoch])\n",
        "    \n",
        "    \n",
        "    # TEST INFO\n",
        "    correct_test = 0\n",
        "    test_loss_total = 0\n",
        "\n",
        "    for x_test, y_test in test_loader:\n",
        "        x_test, y_test = x_test.to(device),y_test.to(device)\n",
        "        output_test = model(x_test)\n",
        "        outClass = output_test.argmax(dim=1, keepdim=True)\n",
        "\n",
        "        if outClass == y_test:\n",
        "            correct_test += 1\n",
        "\n",
        "        loss_test = criterion(output_test, y_test)\n",
        "        test_loss_total += loss_test.item()\n",
        "    test_loss.append(test_loss_total/len(test_loader))\n",
        "    test_accuracy.append(100*correct_test/len(test_loader))\n",
        "\n",
        "    print('Test loss',test_loss[epoch])\n",
        "    print('Test accuracy', test_accuracy[epoch])"
      ],
      "id": "exib0TodsJ6r",
      "execution_count": 118,
      "outputs": [
        {
          "output_type": "stream",
          "text": [
            "Epoch: 1\n",
            "Train Loss 0.15158287361366246\n",
            "Train Accuracy 95.37\n",
            "Test loss 0.17498657110535643\n",
            "Test accuracy 95.03\n",
            "Epoch: 2\n",
            "Train Loss 0.08598380994791131\n",
            "Train Accuracy 97.3\n",
            "Test loss 0.13092291457253338\n",
            "Test accuracy 96.43\n",
            "Epoch: 3\n",
            "Train Loss 0.2981768087756458\n",
            "Train Accuracy 92.27\n",
            "Test loss 0.39217562839760484\n",
            "Test accuracy 91.77\n",
            "Epoch: 4\n",
            "Train Loss 0.1560123842242735\n",
            "Train Accuracy 95.8\n",
            "Test loss 0.22928877578306792\n",
            "Test accuracy 94.61\n",
            "Epoch: 5\n",
            "Train Loss 0.0643265461383741\n",
            "Train Accuracy 98.1\n",
            "Test loss 0.19841981958846405\n",
            "Test accuracy 96.16\n"
          ],
          "name": "stdout"
        }
      ]
    },
    {
      "cell_type": "markdown",
      "metadata": {
        "id": "oO-R1fbdxUz-"
      },
      "source": [
        "Now use the augmented model with horizontal flip"
      ],
      "id": "oO-R1fbdxUz-"
    },
    {
      "cell_type": "code",
      "metadata": {
        "id": "tZmkANFixUCT"
      },
      "source": [
        "test_data_hflip = MNIST('./', download=True,\n",
        "                    transform=transforms.Compose([\n",
        "                        torchvision.transforms.Resize(32),\n",
        "                        torchvision.transforms.RandomHorizontalFlip(p=1),\n",
        "                        transforms.ToTensor()\n",
        "                    ]), train=False)\n",
        "\n",
        "test_loader = torch.utils.data.DataLoader(\n",
        "    dataset=test_data_hflip, batch_size=1, shuffle=True\n",
        ")\n",
        "\n"
      ],
      "id": "tZmkANFixUCT",
      "execution_count": 119,
      "outputs": []
    },
    {
      "cell_type": "code",
      "metadata": {
        "colab": {
          "base_uri": "https://localhost:8080/"
        },
        "id": "uG7fKVO5xcy1",
        "outputId": "68504cd4-7fde-49c5-e85f-9e7db06bbaf6"
      },
      "source": [
        "correct_test = 0\n",
        "test_loss_total = 0\n",
        "\n",
        "for x_test, y_test in test_loader:\n",
        "\n",
        "    x_test, y_test = x_test.to(device),y_test.to(device)\n",
        "    output_test = model(x_test)\n",
        "    outClass = output_test.argmax(dim=1, keepdim=True)\n",
        "\n",
        "    if outClass == y_test:\n",
        "        correct_test += 1\n",
        "\n",
        "    loss_test = criterion(output_test, y_test)\n",
        "\n",
        "    test_loss_total += loss_test.item()\n",
        "\n",
        "\n",
        "\n",
        "print('Flip the test dataset horizontally')\n",
        "print('Testing loss',test_loss_total/len(test_loader))\n",
        "print('Testing accuracy',100*correct_test/len(test_loader))\n"
      ],
      "id": "uG7fKVO5xcy1",
      "execution_count": 120,
      "outputs": [
        {
          "output_type": "stream",
          "text": [
            "Flip the test dataset horizontally\n",
            "Testing loss 0.37901148349698865\n",
            "Testing accuracy 91.49\n"
          ],
          "name": "stdout"
        }
      ]
    },
    {
      "cell_type": "markdown",
      "metadata": {
        "id": "kz-ysgE4xsvJ"
      },
      "source": [
        "We can see that with the augmented model, the horizontal slip accuracy increases a lot"
      ],
      "id": "kz-ysgE4xsvJ"
    },
    {
      "cell_type": "markdown",
      "metadata": {
        "id": "zMP1X4jdxzcq"
      },
      "source": [
        "Vertical Flip"
      ],
      "id": "zMP1X4jdxzcq"
    },
    {
      "cell_type": "code",
      "metadata": {
        "id": "D6iU6BIpx1ZU"
      },
      "source": [
        "test_data_vflip = MNIST('./', download=True,\n",
        "                    transform=transforms.Compose([\n",
        "                        torchvision.transforms.Resize(32),\n",
        "                        torchvision.transforms.RandomVerticalFlip(p=1),\n",
        "                        transforms.ToTensor()\n",
        "                    ]), train=False)\n",
        "\n",
        "test_loader = torch.utils.data.DataLoader(\n",
        "    dataset=test_data_vflip, batch_size=1, shuffle=True\n",
        ")\n",
        "\n"
      ],
      "id": "D6iU6BIpx1ZU",
      "execution_count": 121,
      "outputs": []
    },
    {
      "cell_type": "code",
      "metadata": {
        "colab": {
          "base_uri": "https://localhost:8080/"
        },
        "id": "R7HHED4ux-nV",
        "outputId": "96e171e5-5fce-410d-bceb-23491e1f01bd"
      },
      "source": [
        "correct_test = 0\n",
        "test_loss_total = 0\n",
        "\n",
        "for x_test, y_test in test_loader:\n",
        "\n",
        "    x_test, y_test = x_test.to(device),y_test.to(device)\n",
        "    output_test = model(x_test)\n",
        "    outClass = output_test.argmax(dim=1, keepdim=True)\n",
        "\n",
        "    if outClass == y_test:\n",
        "        correct_test += 1\n",
        "\n",
        "    loss_test = criterion(output_test, y_test)\n",
        "\n",
        "    test_loss_total += loss_test.item()\n",
        "\n",
        "\n",
        "\n",
        "print('Flip the test dataset horizontally')\n",
        "print('Testing loss',test_loss_total/len(test_loader))\n",
        "print('Testing accuracy',100*correct_test/len(test_loader))\n"
      ],
      "id": "R7HHED4ux-nV",
      "execution_count": 122,
      "outputs": [
        {
          "output_type": "stream",
          "text": [
            "Flip the test dataset horizontally\n",
            "Testing loss 0.4162898309956348\n",
            "Testing accuracy 91.3\n"
          ],
          "name": "stdout"
        }
      ]
    },
    {
      "cell_type": "markdown",
      "metadata": {
        "id": "Uk1sPEqWyByz"
      },
      "source": [
        "We can see that the augmented model also improves the vertical flip very well."
      ],
      "id": "Uk1sPEqWyByz"
    },
    {
      "cell_type": "markdown",
      "metadata": {
        "id": "eOe-8slvycvQ"
      },
      "source": [
        "Gaussian Noise of 0.01"
      ],
      "id": "eOe-8slvycvQ"
    },
    {
      "cell_type": "code",
      "metadata": {
        "colab": {
          "base_uri": "https://localhost:8080/"
        },
        "id": "nAABttTdyWaH",
        "outputId": "8096eeb1-479b-4479-dea5-89f3b2ab3234"
      },
      "source": [
        "test_data_noise = MNIST('./', download=True,\n",
        "                    transform=transforms.Compose([\n",
        "                        torchvision.transforms.Resize((32,32)),\n",
        "                        transforms.ToTensor(),\n",
        "                        torchvision.transforms.Lambda(lambda x : x + 0.1*torch.randn_like(x))\n",
        "                    ]), train=False)\n",
        "\n",
        "\n",
        "test_loader_noise = torch.utils.data.DataLoader(\n",
        "    dataset=test_data_noise, batch_size=1, shuffle=True\n",
        ")\n",
        "\n",
        "\n",
        "correct_test = 0\n",
        "test_loss_total = 0\n",
        "\n",
        "for x_test, y_test in test_loader_noise:\n",
        "\n",
        "    x_test, y_test = x_test.to(device),y_test.to(device)\n",
        "    output_test = model(x_test)\n",
        "\n",
        "\n",
        "    loss_test = criterion(output_test, y_test)\n",
        "\n",
        "    _ , pred = torch.max(output_test,1)\n",
        "\n",
        "    num_correct = (pred == y_test).sum()\n",
        "\n",
        "    correct_test += num_correct.item()\n",
        "\n",
        "    test_loss_total += loss_test.item()\n",
        "\n",
        "\n",
        "\n",
        "print('Gaussian noise of 0.01')\n",
        "print('Testing loss',test_loss_total/len(test_loader))\n",
        "print('Testing accuracy',100*correct_test/len(test_loader))"
      ],
      "id": "nAABttTdyWaH",
      "execution_count": 123,
      "outputs": [
        {
          "output_type": "stream",
          "text": [
            "Gaussian noise of 0.01\n",
            "Testing loss 0.25835393599553264\n",
            "Testing accuracy 94.38\n"
          ],
          "name": "stdout"
        }
      ]
    },
    {
      "cell_type": "markdown",
      "metadata": {
        "id": "vR-ZbFLKylqk"
      },
      "source": [
        "Gaussian nosise of 1 with augmented model"
      ],
      "id": "vR-ZbFLKylqk"
    },
    {
      "cell_type": "code",
      "metadata": {
        "colab": {
          "base_uri": "https://localhost:8080/"
        },
        "id": "xyTKawyUyr4T",
        "outputId": "b6bab7b8-5b41-4016-ca90-b9652f0f9a6c"
      },
      "source": [
        "test_data_noise = MNIST('./', download=True,\n",
        "                    transform=transforms.Compose([\n",
        "                        torchvision.transforms.Resize(32),\n",
        "                        transforms.ToTensor(),\n",
        "                        torchvision.transforms.Lambda(lambda x : x + np.sqrt(0.1)*torch.randn_like(x))\n",
        "                    ]), train=False)\n",
        "\n",
        "\n",
        "test_loader_noise = torch.utils.data.DataLoader(\n",
        "    dataset=test_data_noise, batch_size=1, shuffle=True\n",
        ")\n",
        "\n",
        "\n",
        "correct_test = 0\n",
        "test_loss_total = 0\n",
        "\n",
        "for x_test, y_test in test_loader_noise:\n",
        "\n",
        "    x_test, y_test = x_test.to(device),y_test.to(device)\n",
        "    output_test = model(x_test)\n",
        "    outClass = output_test.argmax(dim=1, keepdim=True)\n",
        "\n",
        "    if outClass == y_test:\n",
        "        correct_test += 1\n",
        "\n",
        "    loss_test = criterion(output_test, y_test)\n",
        "\n",
        "    test_loss_total += loss_test.item()\n",
        "\n",
        "\n",
        "\n",
        "print('Gaussian noise of 0.01')\n",
        "print('Testing loss',test_loss_total/len(test_loader))\n",
        "print('Testing accuracy',100*correct_test/len(test_loader))"
      ],
      "id": "xyTKawyUyr4T",
      "execution_count": 124,
      "outputs": [
        {
          "output_type": "stream",
          "text": [
            "Gaussian noise of 0.01\n",
            "Testing loss 1.4379993515461043\n",
            "Testing accuracy 68.19\n"
          ],
          "name": "stdout"
        }
      ]
    },
    {
      "cell_type": "markdown",
      "metadata": {
        "id": "9r1mEhC6yrl8"
      },
      "source": [
        "Since we did not include the gaussian noise data into the augmented model, we can see the this does not improve the performance of gaussian noise of 0.1, it is still not good"
      ],
      "id": "9r1mEhC6yrl8"
    },
    {
      "cell_type": "markdown",
      "metadata": {
        "id": "yU0iormXy3l3"
      },
      "source": [
        "Gaussian noise of 1 on augmented model"
      ],
      "id": "yU0iormXy3l3"
    },
    {
      "cell_type": "code",
      "metadata": {
        "colab": {
          "base_uri": "https://localhost:8080/"
        },
        "id": "vu51CA1ly62q",
        "outputId": "15cc0231-489a-4c20-af74-e2cbe6f777c6"
      },
      "source": [
        "test_data_noise = MNIST('./', download=True,\n",
        "                    transform=transforms.Compose([\n",
        "                        torchvision.transforms.Resize(32),\n",
        "                        transforms.ToTensor(),\n",
        "                        torchvision.transforms.Lambda(lambda x : x + 1*torch.randn_like(x))\n",
        "                    ]), train=False)\n",
        "\n",
        "\n",
        "test_loader_noise = torch.utils.data.DataLoader(\n",
        "    dataset=test_data_noise, batch_size=1, shuffle=True\n",
        ")\n",
        "\n",
        "\n",
        "correct_test = 0\n",
        "test_loss_total = 0\n",
        "\n",
        "for x_test, y_test in test_loader_noise:\n",
        "\n",
        "    x_test, y_test = x_test.to(device),y_test.to(device)\n",
        "    output_test = model(x_test)\n",
        "    outClass = output_test.argmax(dim=1, keepdim=True)\n",
        "\n",
        "    if outClass == y_test:\n",
        "        correct_test += 1\n",
        "\n",
        "    loss_test = criterion(output_test, y_test)\n",
        "\n",
        "    test_loss_total += loss_test.item()\n",
        "\n",
        "\n",
        "\n",
        "print('Gaussian noise of 0.01')\n",
        "print('Testing loss',test_loss_total/len(test_loader))\n",
        "print('Testing accuracy',100*correct_test/len(test_loader))"
      ],
      "id": "vu51CA1ly62q",
      "execution_count": 125,
      "outputs": [
        {
          "output_type": "stream",
          "text": [
            "Gaussian noise of 0.01\n",
            "Testing loss 5.003569020628818\n",
            "Testing accuracy 21.31\n"
          ],
          "name": "stdout"
        }
      ]
    },
    {
      "cell_type": "markdown",
      "metadata": {
        "id": "tKexB6-RzQAV"
      },
      "source": [
        "Since we did not include the gaussian noise data into the augmented model, we can see the this does not improve the performance of gaussian noise of 1, it is still not good"
      ],
      "id": "tKexB6-RzQAV"
    }
  ]
}